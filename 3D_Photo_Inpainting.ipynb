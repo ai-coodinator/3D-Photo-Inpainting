{
  "nbformat": 4,
  "nbformat_minor": 0,
  "metadata": {
    "colab": {
      "name": "3D-Photo-Inpainting.ipynb",
      "provenance": [],
      "collapsed_sections": []
    },
    "kernelspec": {
      "name": "python3",
      "display_name": "Python 3"
    },
    "accelerator": "GPU"
  },
  "cells": [
    {
      "cell_type": "markdown",
      "metadata": {
        "id": "IY-s3ZpHBeAU",
        "colab_type": "text"
      },
      "source": [
        "**[CVPR 2020] 3D Photography using Context-aware Layered Depth Inpainting**\n",
        "\n",
        "[project website](https://shihmengli.github.io/3D-Photo-Inpainting/)"
      ]
    },
    {
      "cell_type": "markdown",
      "metadata": {
        "id": "LPQ0EWxgvMIc",
        "colab_type": "text"
      },
      "source": [
        "- **Prepare environment**\n"
      ]
    },
    {
      "cell_type": "code",
      "metadata": {
        "id": "5o-EIMeaghU0",
        "colab_type": "code",
        "colab": {}
      },
      "source": [
        "!pip3 install torch==1.4.0+cu100 torchvision==0.5.0+cu100 -f https://download.pytorch.org/whl/torch_stable.html\n",
        "!pip3 install opencv-python==4.2.0.32\n",
        "!pip3 install vispy==0.6.4\n",
        "!pip3 install moviepy==1.0.2\n",
        "!pip3 install transforms3d==0.3.1\n",
        "!pip3 install networkx==2.3\n",
        "!sudo apt install sed"
      ],
      "execution_count": null,
      "outputs": []
    },
    {
      "cell_type": "markdown",
      "metadata": {
        "id": "c-g7AeLMvY0R",
        "colab_type": "text"
      },
      "source": [
        "- **Download script and pretrained model**\n"
      ]
    },
    {
      "cell_type": "code",
      "metadata": {
        "id": "cOFIBkWrBlNM",
        "colab_type": "code",
        "colab": {}
      },
      "source": [
        "%cd /content/\n",
        "!git clone https://github.com/vt-vl-lab/3d-photo-inpainting.git\n",
        "%cd 3d-photo-inpainting\n",
        "!sh download.sh"
      ],
      "execution_count": null,
      "outputs": []
    },
    {
      "cell_type": "markdown",
      "metadata": {
        "id": "D_Fg_aMeDnmd",
        "colab_type": "text"
      },
      "source": [
        "- **Switch off off-screen rendering**"
      ]
    },
    {
      "cell_type": "code",
      "metadata": {
        "id": "S9TmdOBRDXcV",
        "colab_type": "code",
        "colab": {}
      },
      "source": [
        "!sed -i 's/offscreen_rendering: True/offscreen_rendering: False/g' argument.yml"
      ],
      "execution_count": null,
      "outputs": []
    },
    {
      "cell_type": "markdown",
      "metadata": {
        "id": "cCN8L7GiDpZA",
        "colab_type": "text"
      },
      "source": [
        "- **Please upload `.jpg` files to `/content/3d-photo-inpainting-master/image/`**\n",
        "  - You can run this step multiple times to upload multiple `.jpg` files."
      ]
    },
    {
      "cell_type": "code",
      "metadata": {
        "id": "n-Kl6fo1oows",
        "colab_type": "code",
        "colab": {}
      },
      "source": [
        "%cd image\n",
        "from google.colab import files\n",
        "uploaded = files.upload()\n",
        "for fn in uploaded.keys():\n",
        "  print('User uploaded file \"{name}\" with length {length} bytes'.format(\n",
        "      name=fn, length=len(uploaded[fn])))\n",
        "%cd .."
      ],
      "execution_count": null,
      "outputs": []
    },
    {
      "cell_type": "markdown",
      "metadata": {
        "id": "wyLFopwVDzUg",
        "colab_type": "text"
      },
      "source": [
        "- **Execute the 3D Photo Inpainting**\n",
        "  - Note: The 3D photo generation process usually takes about 2-3 minutes or more depending on the available computing resources."
      ]
    },
    {
      "cell_type": "code",
      "metadata": {
        "id": "i5-MWEjfBjYx",
        "colab_type": "code",
        "colab": {
          "base_uri": "https://localhost:8080/",
          "height": 1000
        },
        "outputId": "7382ca7f-f96c-479c-ac1c-45e0bfc54fad"
      },
      "source": [
        "!python main.py --config argument.yml"
      ],
      "execution_count": null,
      "outputs": [
        {
          "output_type": "stream",
          "text": [
            "running on device 0\n",
            "\r  0% 0/1 [00:00<?, ?it/s]Current Source ==>  moon\n",
            "Running depth extraction at 1600047798.7467735\n",
            "initialize\n",
            "device: cpu\n",
            "start processing\n",
            "  processing image/moon.jpg (1/1)\n",
            "torch.Size([1, 3, 384, 384])\n",
            "finished\n",
            "Start Running 3D_Photo ...\n",
            "Loading edge model at 1600047814.6303678\n",
            "Loading depth model at 1600047818.2039897\n",
            "Loading rgb model at 1600047818.9904218\n",
            "Writing depth ply (and basically doing everything) at 1600047819.7118344\n",
            "Writing mesh file mesh/moon.ply ...\n",
            "Making video at 1600047981.5829067\n",
            "fov: 53.13010235415598\n",
            "Moviepy - Building video video/moon_dolly-zoom-in.mp4.\n",
            "Moviepy - Writing video video/moon_dolly-zoom-in.mp4\n",
            "\n",
            "  0% 0/1 [03:41<?, ?it/s]\n",
            "t:   0% 0/241 [00:00<?, ?it/s, now=None]\u001b[A\n",
            "t:   5% 11/241 [00:00<00:02, 102.76it/s, now=None]\u001b[A\n",
            "t:  10% 23/241 [00:00<00:02, 107.27it/s, now=None]\u001b[A\n",
            "t:  15% 35/241 [00:00<00:01, 110.23it/s, now=None]\u001b[A\n",
            "t:  19% 46/241 [00:00<00:01, 107.34it/s, now=None]\u001b[A\n",
            "t:  23% 55/241 [00:00<00:04, 44.39it/s, now=None] \u001b[A\n",
            "t:  26% 62/241 [00:01<00:04, 37.03it/s, now=None]\u001b[A\n",
            "t:  28% 68/241 [00:01<00:05, 32.04it/s, now=None]\u001b[A\n",
            "t:  30% 73/241 [00:01<00:05, 29.56it/s, now=None]\u001b[A\n",
            "t:  32% 77/241 [00:01<00:06, 26.68it/s, now=None]\u001b[A\n",
            "t:  34% 81/241 [00:01<00:05, 27.56it/s, now=None]\u001b[A\n",
            "t:  35% 85/241 [00:02<00:06, 25.96it/s, now=None]\u001b[A\n",
            "t:  37% 88/241 [00:02<00:05, 25.62it/s, now=None]\u001b[A\n",
            "t:  38% 91/241 [00:02<00:06, 24.27it/s, now=None]\u001b[A\n",
            "t:  39% 95/241 [00:02<00:05, 24.47it/s, now=None]\u001b[A\n",
            "t:  41% 99/241 [00:02<00:05, 24.15it/s, now=None]\u001b[A\n",
            "t:  43% 103/241 [00:02<00:05, 24.78it/s, now=None]\u001b[A\n",
            "t:  44% 107/241 [00:02<00:05, 25.10it/s, now=None]\u001b[A\n",
            "t:  46% 111/241 [00:03<00:05, 24.57it/s, now=None]\u001b[A\n",
            "t:  47% 114/241 [00:03<00:04, 25.80it/s, now=None]\u001b[A\n",
            "t:  49% 118/241 [00:03<00:04, 25.99it/s, now=None]\u001b[A\n",
            "t:  50% 121/241 [00:03<00:04, 25.16it/s, now=None]\u001b[A\n",
            "t:  51% 124/241 [00:03<00:05, 23.28it/s, now=None]\u001b[A\n",
            "t:  53% 127/241 [00:03<00:05, 22.39it/s, now=None]\u001b[A\n",
            "t:  54% 130/241 [00:03<00:04, 24.22it/s, now=None]\u001b[A\n",
            "t:  55% 133/241 [00:04<00:04, 23.90it/s, now=None]\u001b[A\n",
            "t:  56% 136/241 [00:04<00:04, 23.43it/s, now=None]\u001b[A\n",
            "t:  58% 139/241 [00:04<00:04, 22.67it/s, now=None]\u001b[A\n",
            "t:  59% 142/241 [00:04<00:04, 24.22it/s, now=None]\u001b[A\n",
            "t:  60% 145/241 [00:04<00:03, 24.35it/s, now=None]\u001b[A\n",
            "t:  61% 148/241 [00:04<00:03, 23.28it/s, now=None]\u001b[A\n",
            "t:  63% 151/241 [00:04<00:03, 22.91it/s, now=None]\u001b[A\n",
            "t:  64% 155/241 [00:05<00:03, 22.94it/s, now=None]\u001b[A\n",
            "t:  66% 158/241 [00:05<00:03, 24.57it/s, now=None]\u001b[A\n",
            "t:  67% 161/241 [00:05<00:03, 25.45it/s, now=None]\u001b[A\n",
            "t:  68% 164/241 [00:05<00:03, 23.64it/s, now=None]\u001b[A\n",
            "t:  69% 167/241 [00:05<00:03, 22.38it/s, now=None]\u001b[A\n",
            "t:  71% 170/241 [00:05<00:02, 23.80it/s, now=None]\u001b[A\n",
            "t:  72% 173/241 [00:05<00:02, 22.95it/s, now=None]\u001b[A\n",
            "t:  73% 176/241 [00:05<00:02, 24.24it/s, now=None]\u001b[A\n",
            "t:  74% 179/241 [00:06<00:02, 23.55it/s, now=None]\u001b[A\n",
            "t:  76% 182/241 [00:06<00:02, 25.15it/s, now=None]\u001b[A\n",
            "t:  77% 186/241 [00:06<00:02, 27.02it/s, now=None]\u001b[A\n",
            "t:  78% 189/241 [00:06<00:02, 25.23it/s, now=None]\u001b[A\n",
            "t:  80% 192/241 [00:06<00:02, 24.10it/s, now=None]\u001b[A\n",
            "t:  81% 195/241 [00:06<00:02, 22.31it/s, now=None]\u001b[A\n",
            "t:  83% 199/241 [00:06<00:01, 22.75it/s, now=None]\u001b[A\n",
            "t:  84% 203/241 [00:07<00:01, 23.43it/s, now=None]\u001b[A\n",
            "t:  86% 207/241 [00:07<00:01, 23.66it/s, now=None]\u001b[A\n",
            "t:  88% 211/241 [00:07<00:01, 24.02it/s, now=None]\u001b[A\n",
            "t:  89% 214/241 [00:07<00:01, 24.80it/s, now=None]\u001b[A\n",
            "t:  90% 218/241 [00:07<00:00, 25.52it/s, now=None]\u001b[A\n",
            "t:  92% 221/241 [00:07<00:00, 25.03it/s, now=None]\u001b[A\n",
            "t:  93% 224/241 [00:07<00:00, 23.46it/s, now=None]\u001b[A\n",
            "t:  94% 227/241 [00:08<00:00, 22.68it/s, now=None]\u001b[A\n",
            "t:  96% 231/241 [00:08<00:00, 22.31it/s, now=None]\u001b[A\n",
            "t:  97% 234/241 [00:08<00:00, 23.94it/s, now=None]\u001b[A\n",
            "t:  98% 237/241 [00:08<00:00, 24.76it/s, now=None]\u001b[A\n",
            "t: 100% 240/241 [00:08<00:00, 22.94it/s, now=None]\u001b[A\n",
            "Moviepy - Done !\n",
            "Moviepy - video ready video/moon_dolly-zoom-in.mp4\n",
            "Moviepy - Building video video/moon_zoom-in.mp4.\n",
            "Moviepy - Writing video video/moon_zoom-in.mp4\n",
            "\n",
            "  0% 0/1 [04:26<?, ?it/s]\n",
            "t:   0% 0/241 [00:00<?, ?it/s, now=None]\u001b[A\n",
            "t:   4% 10/241 [00:00<00:02, 92.89it/s, now=None]\u001b[A\n",
            "t:  10% 23/241 [00:00<00:02, 99.79it/s, now=None]\u001b[A\n",
            "t:  15% 35/241 [00:00<00:01, 105.09it/s, now=None]\u001b[A\n",
            "t:  19% 46/241 [00:00<00:01, 104.52it/s, now=None]\u001b[A\n",
            "t:  23% 55/241 [00:00<00:04, 40.89it/s, now=None] \u001b[A\n",
            "t:  26% 62/241 [00:01<00:05, 35.79it/s, now=None]\u001b[A\n",
            "t:  28% 68/241 [00:01<00:06, 28.83it/s, now=None]\u001b[A\n",
            "t:  30% 73/241 [00:01<00:05, 28.17it/s, now=None]\u001b[A\n",
            "t:  32% 77/241 [00:01<00:06, 24.80it/s, now=None]\u001b[A\n",
            "t:  34% 81/241 [00:02<00:06, 23.59it/s, now=None]\u001b[A\n",
            "t:  35% 84/241 [00:02<00:06, 23.23it/s, now=None]\u001b[A\n",
            "t:  36% 87/241 [00:02<00:06, 22.14it/s, now=None]\u001b[A\n",
            "t:  38% 91/241 [00:02<00:06, 21.70it/s, now=None]\u001b[A\n",
            "t:  39% 95/241 [00:02<00:06, 21.80it/s, now=None]\u001b[A\n",
            "t:  41% 98/241 [00:02<00:06, 23.35it/s, now=None]\u001b[A\n",
            "t:  42% 101/241 [00:02<00:06, 23.25it/s, now=None]\u001b[A\n",
            "t:  43% 104/241 [00:03<00:05, 23.00it/s, now=None]\u001b[A\n",
            "t:  44% 107/241 [00:03<00:06, 21.21it/s, now=None]\u001b[A\n",
            "t:  46% 111/241 [00:03<00:06, 21.60it/s, now=None]\u001b[A\n",
            "t:  47% 114/241 [00:03<00:05, 21.90it/s, now=None]\u001b[A\n",
            "t:  49% 117/241 [00:03<00:05, 23.42it/s, now=None]\u001b[A\n",
            "t:  50% 120/241 [00:03<00:05, 22.45it/s, now=None]\u001b[A\n",
            "t:  51% 123/241 [00:04<00:05, 21.12it/s, now=None]\u001b[A\n",
            "t:  53% 127/241 [00:04<00:05, 21.41it/s, now=None]\u001b[A\n",
            "t:  54% 131/241 [00:04<00:05, 21.62it/s, now=None]\u001b[A\n",
            "t:  56% 135/241 [00:04<00:04, 21.98it/s, now=None]\u001b[A\n",
            "t:  57% 138/241 [00:04<00:04, 23.22it/s, now=None]\u001b[A\n",
            "t:  59% 141/241 [00:04<00:04, 24.09it/s, now=None]\u001b[A\n",
            "t:  60% 144/241 [00:04<00:04, 21.84it/s, now=None]\u001b[A\n",
            "t:  61% 147/241 [00:05<00:04, 20.87it/s, now=None]\u001b[A\n",
            "t:  63% 151/241 [00:05<00:04, 20.83it/s, now=None]\u001b[A\n",
            "t:  64% 155/241 [00:05<00:04, 21.36it/s, now=None]\u001b[A\n",
            "t:  66% 159/241 [00:05<00:03, 21.14it/s, now=None]\u001b[ATraceback (most recent call last):\n",
            "  File \"/usr/local/lib/python3.6/dist-packages/moviepy/video/io/ffmpeg_writer.py\", line 228, in ffmpeg_write_video\n",
            "    writer.write_frame(frame)\n",
            "  File \"/usr/local/lib/python3.6/dist-packages/moviepy/video/io/ffmpeg_writer.py\", line 136, in write_frame\n",
            "    self.proc.stdin.write(img_array.tobytes())\n",
            "KeyboardInterrupt\n",
            "\n",
            "During handling of the above exception, another exception occurred:\n",
            "\n",
            "Traceback (most recent call last):\n",
            "  File \"main.py\", line 137, in <module>\n",
            "    mean_loc_depth=mean_loc_depth)\n",
            "  File \"/content/3d-photo-inpainting/mesh.py\", line 2292, in output_3d_photo\n",
            "    clip.write_videofile(os.path.join(output_dir, video_basename + '_' + video_traj_type + '.mp4'), fps=config['fps'])\n",
            "  File \"<decorator-gen-843>\", line 2, in write_videofile\n",
            "  File \"/usr/local/lib/python3.6/dist-packages/moviepy/decorators.py\", line 54, in requires_duration\n",
            "    return f(clip, *a, **k)\n",
            "  File \"<decorator-gen-842>\", line 2, in write_videofile\n",
            "  File \"/usr/local/lib/python3.6/dist-packages/moviepy/decorators.py\", line 135, in use_clip_fps_by_default\n",
            "    return f(clip, *new_a, **new_kw)\n",
            "  File \"<decorator-gen-841>\", line 2, in write_videofile\n",
            "  File \"/usr/local/lib/python3.6/dist-packages/moviepy/decorators.py\", line 22, in convert_masks_to_RGB\n",
            "    return f(clip, *a, **k)\n",
            "  File \"/usr/local/lib/python3.6/dist-packages/moviepy/video/VideoClip.py\", line 307, in write_videofile\n",
            "    logger=logger)\n",
            "  File \"/usr/local/lib/python3.6/dist-packages/moviepy/video/io/ffmpeg_writer.py\", line 228, in ffmpeg_write_video\n",
            "    writer.write_frame(frame)\n",
            "  File \"/usr/local/lib/python3.6/dist-packages/moviepy/video/io/ffmpeg_writer.py\", line 197, in __exit__\n",
            "    self.close()\n",
            "  File \"/usr/local/lib/python3.6/dist-packages/moviepy/video/io/ffmpeg_writer.py\", line 187, in close\n",
            "    self.proc.wait()\n",
            "  File \"/usr/lib/python3.6/subprocess.py\", line 1477, in wait\n",
            "    (pid, sts) = self._try_wait(0)\n",
            "  File \"/usr/lib/python3.6/subprocess.py\", line 1424, in _try_wait\n",
            "    (pid, sts) = os.waitpid(self.pid, wait_flags)\n",
            "KeyboardInterrupt\n",
            "\n",
            "  0% 0/1 [04:32<?, ?it/s]\n"
          ],
          "name": "stdout"
        }
      ]
    },
    {
      "cell_type": "markdown",
      "metadata": {
        "id": "wPvkMT0msIJB",
        "colab_type": "text"
      },
      "source": [
        "- **The results are stored in the following directories**\n",
        "  - Corresponding depth map estimated by [MiDaS](https://github.com/intel-isl/MiDaS.git) \n",
        "      - E.g. ```/content/3d-photo-inpainting/depth/moon.npy```\n",
        "  - Inpainted 3D mesh\n",
        "      - E.g. ```/content/3d-photo-inpainting/mesh/moon.ply```\n",
        "  - Rendered videos with zoom-in motion\n",
        "      - E.g. ```/content/3d-photo-inpainting/video/moon_zoom-in.mp4```\n",
        "  - Rendered videos with swing motion\n",
        "      - E.g. ```/content/3d-photo-inpainting/video/moon_swing.mp4```\n",
        "  - Rendered videos with circle motion\n",
        "      - E.g. ```/content/3d-photo-inpainting/video/moon_circle.mp4```\n",
        "  \n",
        "    ![](https://drive.google.com/uc?id=1xBiZAeGfhsoAsG08N5UM8-f993p0G5HF)"
      ]
    }
  ]
}